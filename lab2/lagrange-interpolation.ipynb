{
 "cells": [
  {
   "cell_type": "markdown",
   "id": "a1b2c3d4",
   "metadata": {},
   "source": [
    "# Lagrange Interpolation\n",
    "This notebook implements Lagrange interpolation to fit a polynomial through a set of data points and visualizes the result."
   ]
  },
  {
   "cell_type": "code",
   "execution_count": 1,
   "id": "b2c3d4e5",
   "metadata": {},
   "outputs": [],
   "source": [
    "def lagrange_interpolation(x_points, y_points, x):\n",
    "    n = len(x_points)\n",
    "    result = 0.0\n",
    "    for i in range(n):\n",
    "        term = y_points[i]\n",
    "        for j in range(n):\n",
    "            if j != i:\n",
    "                term *= (x - x_points[j]) / (x_points[i] - x_points[j])\n",
    "        result += term\n",
    "    return result"
   ]
  },
  {
   "cell_type": "code",
   "execution_count": 2,
   "id": "c3d4e5f6",
   "metadata": {},
   "outputs": [],
   "source": [
    "import numpy as np\n",
    "import matplotlib.pyplot as plt\n",
    "\n",
    "# Sample data points\n",
    "x_points = [0, 1, 2, 3]\n",
    "y_points = [1, 3, 2, 5]\n",
    "\n",
    "# Generate points for smooth polynomial curve\n",
    "x_smooth = np.linspace(min(x_points) - 0.5, max(x_points) + 0.5, 400)\n",
    "y_smooth = [lagrange_interpolation(x_points, y_points, x) for x in x_smooth]\n",
    "\n",
    "# Visualization\n",
    "plt.figure(figsize=(10, 6))\n",
    "plt.plot(x_smooth, y_smooth, 'b-', label='Lagrange Polynomial')\n",
    "plt.plot(x_points, y_points, 'ro', label='Data Points')\n",
    "plt.title('Lagrange Interpolation')\n",
    "plt.xlabel('x')\n",
    "plt.ylabel('y')\n",
    "plt.legend()\n",
    "plt.grid(True)\n",
    "plt.show()\n",
    "\n",
    "# Example: Interpolate at a specific point\n",
    "x_test = 2.5\n",
    "y_test = lagrange_interpolation(x_points, y_points, x_test)\n",
    "print(f'Interpolated value at x = {x_test}: y = {y_test:.4f}')"
   ]
  }
 ],
 "metadata": {
  "kernelspec": {
   "display_name": ".venv",
   "language": "python",
   "name": "python3"
  },
  "language_info": {
   "codemirror_mode": {
    "name": "ipython",
    "version": 3
   },
   "file_extension": ".py",
   "mimetype": "text/x-python",
   "name": "python",
   "nbconvert_exporter": "python",
   "pygments_lexer": "ipython3",
   "version": "3.13.3"
  }
 },
 "nbformat": 4,
 "nbformat_minor": 5
}
