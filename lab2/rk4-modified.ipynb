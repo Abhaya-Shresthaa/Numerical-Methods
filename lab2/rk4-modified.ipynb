{
 "cells": [
  {
   "cell_type": "markdown",
   "id": "e8e616e0",
   "metadata": {},
   "source": [
    "# Runge-Kutta 4th Order (RK4)\n",
    "This notebook implements the RK4 method to solve the differential equation dy/dx = -2x*y with initial condition y(0) = 1, and visualizes the numerical and analytical solutions."
   ]
  },
  {
   "cell_type": "code",
   "execution_count": 1,
   "id": "a1b2c3d4",
   "metadata": {},
   "outputs": [],
   "source": [
    "def f(x, y):\n",
    "    return -2 * x * y"
   ]
  },
  {
   "cell_type": "code",
   "execution_count": 2,
   "id": "b3c4d5e6",
   "metadata": {},
   "outputs": [],
   "source": [
    "def RK4(f, x0, y0, xf, h):\n",
    "    x_values = [x0]\n",
    "    y_values = [y0]\n",
    "    x = x0\n",
    "    y = y0\n",
    "    while x < xf:\n",
    "        k1 = f(x, y)\n",
    "        k2 = f(x + h/2, y + h*k1/2)\n",
    "        k3 = f(x + h/2, y + h*k2/2)\n",
    "        k4 = f(x + h, y + h*k3)\n",
    "        y = y + (h/6) * (k1 + 2*k2 + 2*k3 + k4)\n",
    "        x = x + h\n",
    "        x_values.append(x)\n",
    "        y_values.append(y)\n",
    "    return x_values, y_values"
   ]
  },
  {
   "cell_type": "code",
   "execution_count": 3,
   "id": "c5d6e7f8",
   "metadata": {},
   "outputs": [],
   "source": [
    "import numpy as np\n",
    "import matplotlib.pyplot as plt\n",
    "\n",
    "# Parameters\n",
    "x0, y0 = 0, 1\n",
    "xf = 2\n",
    "h = 0.01\n",
    "\n",
    "# Run RK4\n",
    "x_vals, y_vals = RK4(f, x0, y0, xf, h)\n",
    "\n",
    "# Analytical solution: y = e^(-x^2)\n",
    "x_analytical = np.linspace(x0, xf, 400)\n",
    "y_analytical = np.exp(-x_analytical**2)\n",
    "\n",
    "# Visualization\n",
    "plt.figure(figsize=(10, 6))\n",
    "plt.plot(x_vals, y_vals, 'b-', label='RK4 Numerical Solution')\n",
    "plt.plot(x_analytical, y_analytical, 'r--', label='Analytical Solution: y = e^(-x²)')\n",
    "plt.title('RK4 Method for dy/dx = -2xy')\n",
    "plt.xlabel('x')\n",
    "plt.ylabel('y')\n",
    "plt.legend()\n",
    "plt.grid(True)\n",
    "plt.show()"
   ]
  }
 ],
 "metadata": {
  "kernelspec": {
   "display_name": ".venv",
   "language": "python",
   "name": "python3"
  },
  "language_info": {
   "codemirror_mode": {
    "name": "ipython",
    "version": 3
   },
   "file_extension": ".py",
   "mimetype": "text/x-python",
   "name": "python",
   "nbconvert_exporter": "python",
   "pygments_lexer": "ipython3",
   "version": "3.13.3"
  }
 },
 "nbformat": 4,
 "nbformat_minor": 5
}
