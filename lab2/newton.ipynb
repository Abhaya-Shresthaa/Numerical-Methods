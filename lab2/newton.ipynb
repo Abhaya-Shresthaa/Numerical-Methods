{
 "cells": [
  {
   "cell_type": "code",
   "execution_count": 13,
   "id": "d6fbbb75",
   "metadata": {},
   "outputs": [],
   "source": [
    "import matplotlib.pyplot as plt\n",
    "import numpy as np"
   ]
  },
  {
   "cell_type": "code",
   "execution_count": 14,
   "id": "dd7cb39d",
   "metadata": {},
   "outputs": [],
   "source": [
    "def f(x):\n",
    "    return x**2 + x - 6"
   ]
  },
  {
   "cell_type": "code",
   "execution_count": 15,
   "id": "64b0725c",
   "metadata": {},
   "outputs": [],
   "source": [
    "def slope(x):\n",
    "    return 2*x + 1"
   ]
  },
  {
   "cell_type": "code",
   "execution_count": 16,
   "id": "a89e3030",
   "metadata": {},
   "outputs": [],
   "source": [
    "def NR(func, derivative):\n",
    "    x0 = float(input(\"enter the initial guess for the root of the function  f(x)\"))\n",
    "    n = 100\n",
    "    x = x0\n",
    "    for i in range(n):\n",
    "        x = x -func(x)/derivative(x)\n",
    "    return x, n"
   ]
  },
  {
   "cell_type": "code",
   "execution_count": 17,
   "id": "cd902962",
   "metadata": {},
   "outputs": [
    {
     "name": "stdout",
     "output_type": "stream",
     "text": [
      "The root of the function agter 100 iterations is 2.0\n"
     ]
    }
   ],
   "source": [
    "x, n = NR(f, slope)\n",
    "print(f\"The root of the function agter {n} iterations is {x}\")"
   ]
  },
  {
   "cell_type": "code",
   "execution_count": 18,
   "id": "65764c3a",
   "metadata": {},
   "outputs": [
    {
     "ename": "NameError",
     "evalue": "name 'x_steps' is not defined",
     "output_type": "error",
     "traceback": [
      "\u001b[31m---------------------------------------------------------------------------\u001b[39m",
      "\u001b[31mNameError\u001b[39m                                 Traceback (most recent call last)",
      "\u001b[36mCell\u001b[39m\u001b[36m \u001b[39m\u001b[32mIn[18]\u001b[39m\u001b[32m, line 1\u001b[39m\n\u001b[32m----> \u001b[39m\u001b[32m1\u001b[39m x_vals = np.linspace(\u001b[38;5;28mmin\u001b[39m(\u001b[43mx_steps\u001b[49m)-\u001b[32m2\u001b[39m, \u001b[38;5;28mmax\u001b[39m(x_steps)+\u001b[32m2\u001b[39m, \u001b[32m400\u001b[39m)\n\u001b[32m      2\u001b[39m y_vals = f(x_vals)\n\u001b[32m      4\u001b[39m plt.figure(figsize=(\u001b[32m10\u001b[39m, \u001b[32m6\u001b[39m))\n",
      "\u001b[31mNameError\u001b[39m: name 'x_steps' is not defined"
     ]
    }
   ],
   "source": [
    "x_vals = np.linspace(min(x_steps)-2, max(x_steps)+2, 400)\n",
    "y_vals = f(x_vals)\n",
    "\n",
    "plt.figure(figsize=(10, 6))\n",
    "plt.plot(x_vals, y_vals, label='f(x)', color='blue')\n",
    "plt.axhline(0, color='black', linestyle='--', linewidth=0.8)\n",
    "\n",
    "# Mark the iterations\n",
    "for i in range(len(x_steps)-1):\n",
    "    x_curr = x_steps[i]\n",
    "    x_next = x_steps[i+1]\n",
    "    plt.plot([x_curr, x_curr], [0, f(x_curr)], color='gray', linestyle='dotted')\n",
    "    plt.plot([x_curr, x_next], [f(x_curr), 0], color='red', linestyle='dashed')\n",
    "    plt.scatter(x_curr, f(x_curr), color='black')\n",
    "\n",
    "plt.scatter(x_root, f(x_root), color='green', s=100, label='Final Root')\n",
    "plt.title('Newton-Raphson Method')\n",
    "plt.xlabel('x')\n",
    "plt.ylabel('f(x)')\n",
    "plt.legend()\n",
    "plt.grid(True)\n",
    "plt.show()"
   ]
  }
 ],
 "metadata": {
  "kernelspec": {
   "display_name": "lab",
   "language": "python",
   "name": "python3"
  },
  "language_info": {
   "codemirror_mode": {
    "name": "ipython",
    "version": 3
   },
   "file_extension": ".py",
   "mimetype": "text/x-python",
   "name": "python",
   "nbconvert_exporter": "python",
   "pygments_lexer": "ipython3",
   "version": "3.13.3"
  }
 },
 "nbformat": 4,
 "nbformat_minor": 5
}
