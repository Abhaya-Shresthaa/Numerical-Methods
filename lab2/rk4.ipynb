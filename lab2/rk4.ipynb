{
 "cells": [
  {
   "cell_type": "code",
   "execution_count": 9,
   "id": "d86100b4",
   "metadata": {},
   "outputs": [],
   "source": [
    "import numpy as np"
   ]
  },
  {
   "cell_type": "code",
   "execution_count": 10,
   "id": "bbb86329",
   "metadata": {},
   "outputs": [],
   "source": [
    "def f(x,y):\n",
    "    return (y**2 - x**2)/(y**2 +x**2)"
   ]
  },
  {
   "cell_type": "code",
   "execution_count": 11,
   "id": "50979a6b",
   "metadata": {},
   "outputs": [],
   "source": [
    "x0 = float(input(\"Enter x0\"))\n",
    "y0 = float(input(\"enter the value of y at x0\"))"
   ]
  },
  {
   "cell_type": "code",
   "execution_count": 12,
   "id": "c9c5b93d",
   "metadata": {},
   "outputs": [],
   "source": [
    "x = float (input(\"enter the value of x at which you want to compute the value of y\") )"
   ]
  },
  {
   "cell_type": "code",
   "execution_count": 13,
   "id": "b0937ec6",
   "metadata": {},
   "outputs": [],
   "source": [
    "n = int(input(\"Enter the no of steps\"))"
   ]
  },
  {
   "cell_type": "code",
   "execution_count": 14,
   "id": "5d4ff2c7",
   "metadata": {},
   "outputs": [],
   "source": [
    "h = (x-x0)/n"
   ]
  },
  {
   "cell_type": "code",
   "execution_count": 15,
   "id": "270240c1",
   "metadata": {},
   "outputs": [],
   "source": [
    "k1 = h*f(x0,y0)\n",
    "k2 = h*f(x0 +h/2, y0 +k1/2)\n",
    "k3 = h*f(x0 +h/2, y0 +k2/2)\n",
    "k4 = h*f(x0 + h, y0+k3)\n",
    "\n",
    "k = (k1 + 2*k2 +k4)/6\n",
    "\n"
   ]
  },
  {
   "cell_type": "code",
   "execution_count": 17,
   "id": "412e8c2b",
   "metadata": {},
   "outputs": [],
   "source": [
    "y = y0 +k"
   ]
  },
  {
   "cell_type": "code",
   "execution_count": 18,
   "id": "57c9b110",
   "metadata": {},
   "outputs": [
    {
     "data": {
      "text/plain": [
       "2.0444094026099195"
      ]
     },
     "execution_count": 18,
     "metadata": {},
     "output_type": "execute_result"
    }
   ],
   "source": [
    "y"
   ]
  }
 ],
 "metadata": {
  "kernelspec": {
   "display_name": "lab",
   "language": "python",
   "name": "python3"
  },
  "language_info": {
   "codemirror_mode": {
    "name": "ipython",
    "version": 3
   },
   "file_extension": ".py",
   "mimetype": "text/x-python",
   "name": "python",
   "nbconvert_exporter": "python",
   "pygments_lexer": "ipython3",
   "version": "3.13.3"
  }
 },
 "nbformat": 4,
 "nbformat_minor": 5
}
