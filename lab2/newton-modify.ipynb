{
 "cells": [
  {
   "cell_type": "markdown",
   "id": "b98d3b8e",
   "metadata": {},
   "source": [
    "# Newton Raphson\n",
    "This notebook implements the Newton-Raphson method to find the root of a function and visualizes the function and the root."
   ]
  },
  {
   "cell_type": "code",
   "execution_count": 4,
   "id": "adb1a44e",
   "metadata": {},
   "outputs": [],
   "source": [
    "def f(x):\n",
    "    return x**2 + x - 6"
   ]
  },
  {
   "cell_type": "code",
   "execution_count": 5,
   "id": "bc9060e5",
   "metadata": {},
   "outputs": [],
   "source": [
    "def slope(x):\n",
    "    return 2*x + 1"
   ]
  },
  {
   "cell_type": "code",
   "execution_count": 25,
   "id": "af4e940c",
   "metadata": {},
   "outputs": [],
   "source": [
    "def NR(func, derivative):\n",
    "    X0 = float(input(\"Enter the initial guess for the root of the function f(x): \"))\n",
    "    n = 100\n",
    "    X = X0\n",
    "    iterations = [X0]  # Track iterations for visualization\n",
    "    for i in range(n):\n",
    "        X_new = X - func(X) / derivative(X)\n",
    "        iterations.append(X_new)\n",
    "        if abs(X_new - X) < 1e-6:  # Early stopping if converged\n",
    "            return X_new, i + 1, iterations\n",
    "        X = X_new\n",
    "    return X, n, iterations"
   ]
  },
  {
   "cell_type": "code",
   "execution_count": 26,
   "id": "702a93d0",
   "metadata": {},
   "outputs": [],
   "source": [
    "import numpy as np\n",
    "import matplotlib.pyplot as plt\n",
    "\n",
    "# Run Newton-Raphson\n",
    "X, n, iterations = NR(f, slope)\n",
    "print(f\"The root of the function after {n} iterations is {X}\")\n",
    "\n",
    "# Visualization\n",
    "x_vals = np.linspace(-5, 5, 400)\n",
    "y_vals = f(x_vals)\n",
    "\n",
    "plt.figure(figsize=(10, 6))\n",
    "plt.plot(x_vals, y_vals, label='f(x) = x² + x - 6', color='blue')\n",
    "plt.axhline(0, color='black', linestyle='--', linewidth=0.5)\n",
    "plt.axvline(X, color='red', linestyle='--', label=f'Root ≈ {X:.4f}')\n",
    "plt.plot(iterations, [f(x) for x in iterations], 'ro-', label='Iteration path')\n",
    "plt.title('Newton-Raphson Method')\n",
    "plt.xlabel('x')\n",
    "plt.ylabel('f(x)')\n",
    "plt.legend()\n",
    "plt.grid(True)\n",
    "plt.show()"
   ]
  }
 ],
 "metadata": {
  "kernelspec": {
   "display_name": ".venv",
   "language": "python",
   "name": "python3"
  },
  "language_info": {
   "codemirror_mode": {
    "name": "ipython",
    "version": 3
   },
   "file_extension": ".py",
   "mimetype": "text/x-python",
   "name": "python",
   "nbconvert_exporter": "python",
   "pygments_lexer": "ipython3",
   "version": "3.13.3"
  }
 },
 "nbformat": 4,
 "nbformat_minor": 5
}
