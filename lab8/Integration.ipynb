{
 "cells": [
  {
   "cell_type": "markdown",
   "metadata": {},
   "source": [
    "# Abhaya Shrestha (080BCT006)"
   ]
  },
  {
   "cell_type": "code",
   "execution_count": null,
   "metadata": {},
   "outputs": [],
   "source": [
    "import numpy as np\n",
    "\n",
    "#given function\n",
    "def f(x):\n",
    "    return 1/(1+x*x)\n",
    "\n",
    "# Trapezoidal Rule\n",
    "def trapezoidal_rule(f, a, b, n):\n",
    "    h = (b - a) / n\n",
    "    result = f(a) + f(b)\n",
    "    for i in range(1, n):\n",
    "        result += 2 * f(a + i * h)\n",
    "    return (h / 2) * result\n",
    "\n",
    "# Simpsons's 1/3 rule\n",
    "def simpson_1_3_rule(f, a, b, n):\n",
    "    if n % 2 != 0:\n",
    "        raise ValueError(\"Simpson's 1/3 rule requires even n\")\n",
    "    h = (b - a) / n\n",
    "    result = f(a) + f(b)\n",
    "    for i in range(1, n):\n",
    "        coeff = 4 if i % 2 != 0 else 2\n",
    "        result += coeff * f(a + i * h)\n",
    "    return (h / 3) * result\n",
    "\n",
    "# Simpson's 3/8 rule\n",
    "def simpson_3_8_rule(f, a, b, n):\n",
    "    if n % 3 != 0:\n",
    "        raise ValueError(\"Simpson's 3/8 rule requires n to be multiple of 3\")\n",
    "    h = (b - a) / n\n",
    "    result = f(a) + f(b)\n",
    "    for i in range(1, n):\n",
    "        coeff = 3 if i % 3 != 0 else 2\n",
    "        result += coeff * f(a + i * h)\n",
    "    return (3 * h / 8) * result\n",
    "\n",
    "# Boole's Rule\n",
    "def boole_rule(a,b,n=4):\n",
    "    h=(b-a)/n\n",
    "    result=0\n",
    "    weight=[7,32,12,32,7]\n",
    "    for i in range (0,n+1):\n",
    "        result+= weight[i]*f(a+i*h)\n",
    "    return 2*h/45*result\n",
    "\n",
    "# Weddle's Rule\n",
    "def weddle_rule(a,b,n=6):\n",
    "    h=(b-a)/n\n",
    "    result=0\n",
    "    weight=[1,5,1,6,1,5,1]\n",
    "    for i in range (0,n+1):\n",
    "        result+=weight[i]*f(a+i*h)\n",
    "    return h*3/10*result\n",
    "    \n",
    "# Gauss Legendre Quadrature 3 point formula\n",
    "def gauss_legendre_3pt(f, a, b):\n",
    "    n=3\n",
    "    nodes = [-np.sqrt(3/5), 0, np.sqrt(3/5)]\n",
    "    weights = [5/9, 8/9, 5/9]\n",
    "\n",
    "    # Change of interval\n",
    "    midpoint = (a + b) / 2\n",
    "    half_length = (b - a) / 2\n",
    "\n",
    "    result = 0\n",
    "   \n",
    "    for i in range(0,n):\n",
    "        result+=weights[i]*f(midpoint+half_length*nodes[i])\n",
    "    return half_length * result\n",
    "\n",
    "\n",
    "\n"
   ]
  },
  {
   "cell_type": "code",
   "execution_count": 2,
   "metadata": {},
   "outputs": [
    {
     "name": "stdout",
     "output_type": "stream",
     "text": [
      "Trapezoidal: 1.1056711915535444\n",
      "Simpson 1/3: 1.1070487682252388\n",
      "Simpson 3/8: 1.1063800904977377\n",
      "Boole's: 1.1076923076923078\n",
      "Weddle's: 1.10758371040724\n",
      "Gauss-Legendre: 1.107033639143731\n"
     ]
    }
   ],
   "source": [
    "a, b = 0, 2\n",
    "n = 6  \n",
    "\n",
    "print(\"Trapezoidal:\", trapezoidal_rule(f, a, b, n))\n",
    "print(\"Simpson 1/3:\", simpson_1_3_rule(f, a, b, n))\n",
    "print(\"Simpson 3/8:\", simpson_3_8_rule(f, a, b, 6))\n",
    "print(\"Boole's:\", boole_rule(a, b))\n",
    "print(\"Weddle's:\", weddle_rule( a, b,n))\n",
    "print(\"Gauss-Legendre:\", gauss_legendre_3pt(f, a, b))"
   ]
  }
 ],
 "metadata": {
  "kernelspec": {
   "display_name": "lab",
   "language": "python",
   "name": "python3"
  },
  "language_info": {
   "codemirror_mode": {
    "name": "ipython",
    "version": 3
   },
   "file_extension": ".py",
   "mimetype": "text/x-python",
   "name": "python",
   "nbconvert_exporter": "python",
   "pygments_lexer": "ipython3",
   "version": "3.13.3"
  }
 },
 "nbformat": 4,
 "nbformat_minor": 2
}
