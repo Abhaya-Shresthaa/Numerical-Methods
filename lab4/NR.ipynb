{
 "cells": [
  {
   "cell_type": "code",
   "execution_count": 69,
   "id": "69a5266a",
   "metadata": {},
   "outputs": [],
   "source": [
    "import numpy as np "
   ]
  },
  {
   "cell_type": "code",
   "execution_count": 70,
   "id": "2a06e71d",
   "metadata": {},
   "outputs": [],
   "source": [
    "X = np.array([1,0])\n",
    "\n",
    "def Func(X):\n",
    "    x, y = X\n",
    "    F = np.array([\n",
    "        (x**2) + y - x -1,\n",
    "        x**2 - 2*y**2 -y \n",
    "    ])\n",
    "    return F\n",
    "\n",
    "def invFunc(X):\n",
    "    x, y =X\n",
    "    J = np.array([\n",
    "        [2*x -1 , 1] , [2*x , -4*y -1] \n",
    "    ])\n",
    "    return np.linalg.inv(J)\n",
    "    "
   ]
  },
  {
   "cell_type": "code",
   "execution_count": 71,
   "id": "d18c4897",
   "metadata": {},
   "outputs": [],
   "source": [
    "def decimal_array(arr):\n",
    "    return np.array([int(a * 10000) / 10000 for a in arr])"
   ]
  },
  {
   "cell_type": "code",
   "execution_count": 72,
   "id": "78a7cb41",
   "metadata": {},
   "outputs": [],
   "source": [
    "while True:\n",
    "    Y = X - invFunc(X) @ Func(X)\n",
    "    if np.array_equal(decimal_array(X), decimal_array(Y)):\n",
    "        break\n",
    "    X = Y"
   ]
  },
  {
   "cell_type": "code",
   "execution_count": 74,
   "id": "b0330fb7",
   "metadata": {},
   "outputs": [
    {
     "name": "stdout",
     "output_type": "stream",
     "text": [
      "[1.2586 0.6744]\n"
     ]
    }
   ],
   "source": [
    "X = decimal_array(X)\n",
    "print(X)"
   ]
  }
 ],
 "metadata": {
  "kernelspec": {
   "display_name": "lab",
   "language": "python",
   "name": "python3"
  },
  "language_info": {
   "codemirror_mode": {
    "name": "ipython",
    "version": 3
   },
   "file_extension": ".py",
   "mimetype": "text/x-python",
   "name": "python",
   "nbconvert_exporter": "python",
   "pygments_lexer": "ipython3",
   "version": "3.13.3"
  }
 },
 "nbformat": 4,
 "nbformat_minor": 5
}
