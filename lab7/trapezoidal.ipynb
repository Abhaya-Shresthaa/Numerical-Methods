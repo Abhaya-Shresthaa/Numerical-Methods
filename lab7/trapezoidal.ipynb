{
 "cells": [
  {
   "cell_type": "markdown",
   "id": "53c2e9f2",
   "metadata": {},
   "source": [
    "trapezoidal"
   ]
  },
  {
   "cell_type": "code",
   "execution_count": null,
   "id": "50ae912e",
   "metadata": {
    "vscode": {
     "languageId": "plaintext"
    }
   },
   "outputs": [],
   "source": []
  }
 ],
 "metadata": {
  "language_info": {
   "name": "python"
  }
 },
 "nbformat": 4,
 "nbformat_minor": 5
}
