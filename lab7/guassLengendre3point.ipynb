{
 "cells": [
  {
   "cell_type": "markdown",
   "id": "bac63d8a",
   "metadata": {},
   "source": [
    "## Guass Legendre 3 point formula"
   ]
  },
  {
   "cell_type": "code",
   "execution_count": null,
   "id": "67ed3b3d",
   "metadata": {},
   "outputs": [],
   "source": []
  }
 ],
 "metadata": {
  "language_info": {
   "name": "python"
  }
 },
 "nbformat": 4,
 "nbformat_minor": 5
}
