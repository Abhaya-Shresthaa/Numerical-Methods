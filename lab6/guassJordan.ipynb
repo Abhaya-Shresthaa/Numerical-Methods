{
 "cells": [
  {
   "cell_type": "markdown",
   "id": "ce312f2a",
   "metadata": {},
   "source": [
    "## Gauss Jordan"
   ]
  },
  {
   "cell_type": "code",
   "execution_count": 6,
   "id": "92c8389c",
   "metadata": {},
   "outputs": [
    {
     "name": "stdout",
     "output_type": "stream",
     "text": [
      "Solution: [-0.55263158  3.28947368  5.21052632 -0.07894737]\n"
     ]
    }
   ],
   "source": [
    "import numpy as np\n",
    "\n",
    "def gauss_jordan(a, b):\n",
    "    a = a.astype(float)\n",
    "    b = b.astype(float)\n",
    "\n",
    "    if a.shape[0] != a.shape[1]:\n",
    "        raise ValueError(\"Matrix A must be square.\")\n",
    "    if a.shape[0] != b.size:\n",
    "        raise ValueError(\"Length of b must equal number of rows of A.\")\n",
    "\n",
    "    n = b.size\n",
    "    aug = np.hstack([a, b.reshape(-1, 1)])\n",
    "\n",
    "    for i in range(n):\n",
    "        if abs(aug[i, i]) < 1e-12:\n",
    "            swap_row = np.argmax(abs(aug[i:, i])) + i\n",
    "            if abs(aug[swap_row, i]) < 1e-12:\n",
    "                raise ValueError(\"Singular matrix; no unique solution.\")\n",
    "            aug[[i, swap_row]] = aug[[swap_row, i]]\n",
    "\n",
    "        aug[i] /= aug[i, i]        \n",
    "\n",
    "        for j in range(n):\n",
    "            if i != j:\n",
    "                aug[j] -= aug[j, i] * aug[i]\n",
    "\n",
    "    return aug[:, -1]\n",
    "\n",
    "# Example usage:\n",
    "A = np.array([[2, 1, 3, 4],\n",
    "              [1, -1, 2, 1],\n",
    "              [3, 2, 0, -1],\n",
    "              [4, 3, 2, 1]])\n",
    "B = np.array([17.5, 6.5, 5, 18]) \n",
    "\n",
    "x = gauss_jordan(A, B)\n",
    "print(\"Solution:\", x)"
   ]
  }
 ],
 "metadata": {
  "kernelspec": {
   "display_name": "lab",
   "language": "python",
   "name": "python3"
  },
  "language_info": {
   "codemirror_mode": {
    "name": "ipython",
    "version": 3
   },
   "file_extension": ".py",
   "mimetype": "text/x-python",
   "name": "python",
   "nbconvert_exporter": "python",
   "pygments_lexer": "ipython3",
   "version": "3.13.3"
  }
 },
 "nbformat": 4,
 "nbformat_minor": 5
}
