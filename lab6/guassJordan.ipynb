{
 "cells": [
  {
   "cell_type": "code",
   "execution_count": 3,
   "id": "6c29c929",
   "metadata": {},
   "outputs": [],
   "source": [
    "import numpy as np"
   ]
  },
  {
   "cell_type": "code",
   "execution_count": 4,
   "id": "92c8389c",
   "metadata": {},
   "outputs": [
    {
     "name": "stdout",
     "output_type": "stream",
     "text": [
      "Solution: [ 5.  3. -2.]\n"
     ]
    }
   ],
   "source": [
    "import numpy as np\n",
    "\n",
    "def gauss_jordan(A, b):\n",
    "    A = A.astype(float)  # Make sure we are working with floats\n",
    "    b = b.astype(float)\n",
    "    n = len(b)\n",
    "\n",
    "    for i in range(n):\n",
    "        # Make the diagonal element 1\n",
    "        factor = A[i][i]\n",
    "        A[i] = A[i] / factor\n",
    "        b[i] = b[i] / factor\n",
    "\n",
    "        # Eliminate the other elements in column i\n",
    "        for j in range(n):\n",
    "            if i != j:\n",
    "                factor = A[j][i]\n",
    "                A[j] = A[j] - factor * A[i]\n",
    "                b[j] = b[j] - factor * b[i]\n",
    "\n",
    "    return b  # b now contains the solution\n",
    "\n",
    "# Example system:\n",
    "A = np.array([\n",
    "    [1, 1, 1],\n",
    "    [0, 2, 5],\n",
    "    [2, 5, -1]\n",
    "])\n",
    "\n",
    "b = np.array([6, -4, 27])\n",
    "\n",
    "solution = gauss_jordan(A, b)\n",
    "print(\"Solution:\", solution)"
   ]
  }
 ],
 "metadata": {
  "kernelspec": {
   "display_name": "lab",
   "language": "python",
   "name": "python3"
  },
  "language_info": {
   "codemirror_mode": {
    "name": "ipython",
    "version": 3
   },
   "file_extension": ".py",
   "mimetype": "text/x-python",
   "name": "python",
   "nbconvert_exporter": "python",
   "pygments_lexer": "ipython3",
   "version": "3.13.3"
  }
 },
 "nbformat": 4,
 "nbformat_minor": 5
}
