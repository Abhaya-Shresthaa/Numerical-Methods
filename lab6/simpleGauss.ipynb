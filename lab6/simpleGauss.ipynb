{
 "cells": [
  {
   "cell_type": "markdown",
   "id": "5d9986ee",
   "metadata": {},
   "source": [
    "## Gauss Elimination"
   ]
  },
  {
   "cell_type": "code",
   "execution_count": 8,
   "id": "a1580b61",
   "metadata": {},
   "outputs": [],
   "source": [
    "import numpy as np\n",
    "\n",
    "def simple_gauss_elimination(a, b):\n",
    "    n = len(b)\n",
    "    a = a.astype(float)\n",
    "    b = b.astype(float)\n",
    "\n",
    "    # Forward Elimination\n",
    "    for i in range(n):\n",
    "        for j in range(i+1, n):\n",
    "            factor = a[j][i] / a[i][i]\n",
    "            a[j, i:] = a[j, i:] - factor * a[i, i:]\n",
    "            b[j] = b[j] - factor * b[i]\n",
    "\n",
    "    # Back Substitution\n",
    "    x = np.zeros(n)\n",
    "    for i in range(n-1, -1, -1):\n",
    "        x[i] = (b[i] - np.dot(a[i, i+1:], x[i+1:])) / a[i][i]\n",
    "\n",
    "    return x"
   ]
  },
  {
   "cell_type": "code",
   "execution_count": 9,
   "id": "714589f1",
   "metadata": {},
   "outputs": [
    {
     "name": "stdout",
     "output_type": "stream",
     "text": [
      "Solution:\n",
      "x1 = 0.8333\n",
      "x2 = 2.8333\n",
      "x3 = 0.8333\n"
     ]
    }
   ],
   "source": [
    "A = np.array([\n",
    "    [1, 2, 3],\n",
    "    [2, 3, 1],\n",
    "    [3, 1, 2]\n",
    "])\n",
    "B = np.array([9, 11, 7])\n",
    "\n",
    "solution = simple_gauss_elimination(A, B)\n",
    "\n",
    "print(\"Solution:\")\n",
    "for i, val in enumerate(solution):\n",
    "    print(f\"x{i+1} = {val:.4f}\")"
   ]
  }
 ],
 "metadata": {
  "kernelspec": {
   "display_name": "lab",
   "language": "python",
   "name": "python3"
  },
  "language_info": {
   "codemirror_mode": {
    "name": "ipython",
    "version": 3
   },
   "file_extension": ".py",
   "mimetype": "text/x-python",
   "name": "python",
   "nbconvert_exporter": "python",
   "pygments_lexer": "ipython3",
   "version": "3.13.3"
  }
 },
 "nbformat": 4,
 "nbformat_minor": 5
}
