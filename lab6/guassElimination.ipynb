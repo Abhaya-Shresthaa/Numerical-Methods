{
 "cells": [
  {
   "cell_type": "code",
   "execution_count": 1,
   "id": "6cf16361",
   "metadata": {},
   "outputs": [
    {
     "name": "stdout",
     "output_type": "stream",
     "text": [
      "Solution: [ 5.  3. -2.]\n"
     ]
    }
   ],
   "source": [
    "import numpy as np\n",
    "\n",
    "def gauss_elimination(A, b):\n",
    "    A = A.astype(float)\n",
    "    b = b.astype(float)\n",
    "    n = len(b)\n",
    "\n",
    "    # Forward Elimination\n",
    "    for i in range(n):\n",
    "        # Partial pivoting (optional but improves accuracy)\n",
    "        max_row = np.argmax(np.abs(A[i:, i])) + i\n",
    "        if i != max_row:\n",
    "            A[[i, max_row]] = A[[max_row, i]]\n",
    "            b[[i, max_row]] = b[[max_row, i]]\n",
    "\n",
    "        # Make elements below the pivot 0\n",
    "        for j in range(i + 1, n):\n",
    "            factor = A[j][i] / A[i][i]\n",
    "            A[j] = A[j] - factor * A[i]\n",
    "            b[j] = b[j] - factor * b[i]\n",
    "\n",
    "    # Back Substitution\n",
    "    x = np.zeros(n)\n",
    "    for i in range(n - 1, -1, -1):\n",
    "        x[i] = (b[i] - np.dot(A[i, i + 1:], x[i + 1:])) / A[i][i]\n",
    "\n",
    "    return x\n",
    "\n",
    "# Example system:\n",
    "A = np.array([\n",
    "    [1, 1, 1],\n",
    "    [0, 2, 5],\n",
    "    [2, 5, -1]\n",
    "])\n",
    "\n",
    "b = np.array([6, -4, 27])\n",
    "\n",
    "solution = gauss_elimination(A, b)\n",
    "print(\"Solution:\", solution)"
   ]
  }
 ],
 "metadata": {
  "kernelspec": {
   "display_name": "lab",
   "language": "python",
   "name": "python3"
  },
  "language_info": {
   "codemirror_mode": {
    "name": "ipython",
    "version": 3
   },
   "file_extension": ".py",
   "mimetype": "text/x-python",
   "name": "python",
   "nbconvert_exporter": "python",
   "pygments_lexer": "ipython3",
   "version": "3.13.3"
  }
 },
 "nbformat": 4,
 "nbformat_minor": 5
}
